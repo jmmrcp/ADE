{
  "nbformat": 4,
  "nbformat_minor": 0,
  "metadata": {
    "colab": {
      "private_outputs": true,
      "provenance": [],
      "authorship_tag": "ABX9TyNTlpzu3wKQ4bq6LbM6qSEW",
      "include_colab_link": true
    },
    "kernelspec": {
      "name": "python3",
      "display_name": "Python 3"
    },
    "language_info": {
      "name": "python"
    }
  },
  "cells": [
    {
      "cell_type": "markdown",
      "metadata": {
        "id": "view-in-github",
        "colab_type": "text"
      },
      "source": [
        "<a href=\"https://colab.research.google.com/github/jmmrcp/ADE/blob/main/TEST.ipynb\" target=\"_parent\"><img src=\"https://colab.research.google.com/assets/colab-badge.svg\" alt=\"Open In Colab\"/></a>"
      ]
    },
    {
      "cell_type": "markdown",
      "source": [
        "# Import"
      ],
      "metadata": {
        "id": "eLrvjAijIjUC"
      }
    },
    {
      "cell_type": "code",
      "source": [
        "# Instalar joypy\n",
        "%pip install joypy -qU\n",
        "\n",
        "# Verificar la versión\n",
        "!python -c \"import joypy; print(joypy.__version__)\""
      ],
      "metadata": {
        "id": "Fl7ke9fPrhmQ"
      },
      "execution_count": null,
      "outputs": []
    },
    {
      "cell_type": "code",
      "execution_count": null,
      "metadata": {
        "id": "2IKwVeufIKxm"
      },
      "outputs": [],
      "source": [
        "# Importaciones estándar de Python\n",
        "import os\n",
        "import math\n",
        "from datetime import datetime\n",
        "import warnings\n",
        "\n",
        "# Manipulación de datos\n",
        "import numpy as np\n",
        "import pandas as pd\n",
        "from scipy import stats\n",
        "import scipy.cluster.hierarchy as hc\n",
        "\n",
        "# Visualización de datos\n",
        "import matplotlib.pyplot as plt\n",
        "from mpl_toolkits.mplot3d import Axes3D  # Para gráficos 3D\n",
        "import seaborn as sns\n",
        "import joypy  # Para gráficos de densidad tipo \"joyplot\"\n",
        "\n",
        "# Preprocesamiento de datos\n",
        "from sklearn.preprocessing import StandardScaler, MinMaxScaler, LabelEncoder, OrdinalEncoder\n",
        "\n",
        "# Clustering\n",
        "from sklearn.cluster import KMeans, AgglomerativeClustering\n",
        "from sklearn.metrics import silhouette_score, silhouette_samples\n",
        "\n",
        "# Reducción de dimensionalidad\n",
        "from sklearn.decomposition import PCA\n",
        "\n",
        "# Herramientas de visualización avanzada para clustering\n",
        "from yellowbrick.cluster import KElbowVisualizer, SilhouetteVisualizer"
      ]
    },
    {
      "cell_type": "code",
      "source": [
        "# Configuración para mostrar gráficos en línea (específico para Jupyter Notebook)\n",
        "%matplotlib inline\n",
        "\n",
        "# Configuración del tamaño predeterminado de las figuras\n",
        "plt.rcParams['figure.figsize'] = (16, 9)  # Tamaño de las figuras: 16 pulgadas de ancho y 9 de alto\n",
        "\n",
        "# Estilo de los gráficos\n",
        "plt.style.use('seaborn-v0_8-ticks')  # Usar el estilo 'seaborn-ticks' para gráficos más atractivos\n",
        "\n",
        "# Configuración de Seaborn\n",
        "sns.set(font_scale=1)  # Escala de la fuente en los gráficos de Seaborn (1 es el tamaño predeterminado)\n",
        "\n",
        "# Ignorar advertencias\n",
        "warnings.filterwarnings('ignore')  # Suprimir advertencias para una salida más limpia"
      ],
      "metadata": {
        "id": "IP80J_JLIhBS"
      },
      "execution_count": null,
      "outputs": []
    },
    {
      "cell_type": "markdown",
      "source": [
        "# Read Data"
      ],
      "metadata": {
        "id": "Cjx9Tj77sg84"
      }
    },
    {
      "cell_type": "code",
      "source": [
        "# Ruta de la carpeta donde se descargarán los datos\n",
        "folder_path = '/content/EDA'\n",
        "\n",
        "if not os.path.exists(folder_path):\n",
        "    # Crear la carpeta si no existe\n",
        "    os.makedirs(folder_path, exist_ok=True)\n",
        "    print(f\"Carpeta '{folder_path}' creada.\")\n",
        "\n",
        "    # Descargar los datos desde Google Drive usando gdown\n",
        "    !gdown -q --folder 1BEIEMujLyhqZQCeLHmivMq-i1hJisqVH -O {folder_path}\n",
        "    print(f\"Datos descargados en '{folder_path}'.\")\n",
        "else:\n",
        "    print(f\"La carpeta '{folder_path}' ya existe. No se descargaron nuevos datos.\")"
      ],
      "metadata": {
        "id": "NsMsypmwIsTR"
      },
      "execution_count": null,
      "outputs": []
    },
    {
      "cell_type": "code",
      "source": [
        "# Ruta del archivo\n",
        "file_path = '/content/EDA/Mall_Customers.csv'\n",
        "\n",
        "# Verificar si el archivo existe\n",
        "if os.path.exists(file_path):\n",
        "    try:\n",
        "        # Cargar el archivo CSV en un DataFrame\n",
        "        data = pd.read_csv(file_path)\n",
        "        print(\"Archivo cargado correctamente.\")\n",
        "        print(\"\\nPrimeras filas del DataFrame:\")\n",
        "        print(data.info())  # Mostrar las primeras filas del DataFrame\n",
        "    except Exception as e:\n",
        "        print(f\"Error al cargar el archivo: {e}\")\n",
        "else:\n",
        "    print(f\"El archivo '{file_path}' no existe. Verifica la ruta.\")"
      ],
      "metadata": {
        "id": "6dbStA-YIzZT"
      },
      "execution_count": null,
      "outputs": []
    },
    {
      "cell_type": "markdown",
      "source": [
        "# EDA"
      ],
      "metadata": {
        "id": "Ozk_uEWNss-L"
      }
    },
    {
      "cell_type": "code",
      "source": [
        "# Imprimir la forma del DataFrame\n",
        "print(\"Forma del DataFrame (filas, columnas):\", data.shape)\n",
        "\n",
        "# Mostrar las primeras filas del DataFrame\n",
        "print(\"\\nPrimeras 5 filas del DataFrame:\")\n",
        "display(data.head())  # Usar display para una mejor visualización en Jupyter Notebook"
      ],
      "metadata": {
        "id": "1550DVCHI6kr"
      },
      "execution_count": null,
      "outputs": []
    },
    {
      "cell_type": "code",
      "source": [
        "# Crear la figura\n",
        "plt.figure(figsize=(10, 6))\n",
        "\n",
        "# Crear el gráfico de dispersión\n",
        "plt.scatter(\n",
        "    x=data['Annual Income (k$)'],  # Eje x: Ingreso anual\n",
        "    y=data['Spending Score (1-100)'],  # Eje y: Puntaje de gasto\n",
        "    c='blue',  # Color de los puntos\n",
        "    alpha=0.6,  # Transparencia de los puntos\n",
        "    edgecolor='k',  # Borde negro para los puntos\n",
        "    linewidth=0.5  # Grosor del borde\n",
        ")\n",
        "\n",
        "# Títulos y etiquetas\n",
        "plt.title('Relación entre Ingreso Anual y Puntaje de Gasto', fontsize=16, pad=20)\n",
        "plt.xlabel('Ingreso Anual (k$)', fontsize=12)\n",
        "plt.ylabel('Puntaje de Gasto (1-100)', fontsize=12)\n",
        "\n",
        "# Añadir una cuadrícula para mejor legibilidad\n",
        "plt.grid(True, linestyle='--', alpha=0.6)\n",
        "\n",
        "# Ajustar el layout\n",
        "plt.tight_layout()\n",
        "\n",
        "# Mostrar el gráfico\n",
        "plt.show()"
      ],
      "metadata": {
        "id": "VHkHHcdcSfMz"
      },
      "execution_count": null,
      "outputs": []
    },
    {
      "cell_type": "code",
      "source": [
        "# Verificar si la columna 'CustomerID' existe en el DataFrame\n",
        "if 'CustomerID' in data.columns:\n",
        "    # Eliminar la columna 'CustomerID'\n",
        "    data.drop('CustomerID', axis=1, inplace=True)\n",
        "    print(\"La columna 'CustomerID' ha sido eliminada.\")\n",
        "else:\n",
        "    print(\"La columna 'CustomerID' no existe en el DataFrame.\")"
      ],
      "metadata": {
        "id": "IJR9xByMJ1dt"
      },
      "execution_count": null,
      "outputs": []
    },
    {
      "cell_type": "code",
      "source": [
        "# Verificar si hay filas duplicadas antes de eliminarlas\n",
        "if data.duplicated().any():\n",
        "    print(\"Se encontraron filas duplicadas. Eliminándolas...\")\n",
        "    # Eliminar filas duplicadas\n",
        "    data.drop_duplicates(inplace=True)\n",
        "    print(\"Filas duplicadas eliminadas.\")\n",
        "else:\n",
        "    print(\"No se encontraron filas duplicadas.\")"
      ],
      "metadata": {
        "id": "xGiWJ3UWJ6SF"
      },
      "execution_count": null,
      "outputs": []
    },
    {
      "cell_type": "code",
      "source": [
        "# Verificar valores faltantes en cada columna\n",
        "missing_values = data.isna().sum()\n",
        "\n",
        "# Mostrar el resultado de manera más clara\n",
        "print(\"Valores faltantes por columna:\")\n",
        "print(missing_values)"
      ],
      "metadata": {
        "id": "EHUEw8zMJdXN"
      },
      "execution_count": null,
      "outputs": []
    },
    {
      "cell_type": "code",
      "source": [
        "# Diccionario con los nuevos nombres de las columnas\n",
        "new_names = {\n",
        "    'Gender': 'gender',\n",
        "    'Age': 'age',\n",
        "    'Annual Income (k$)': 'annual_income',\n",
        "    'Spending Score (1-100)': 'spending_score'\n",
        "}"
      ],
      "metadata": {
        "id": "FfLIQTpMKLU2"
      },
      "execution_count": null,
      "outputs": []
    },
    {
      "cell_type": "code",
      "source": [
        "# Verificar si las columnas a renombrar existen en el DataFrame\n",
        "existing_columns = data.columns\n",
        "columns_to_rename = {k: v for k, v in new_names.items() if k in existing_columns}\n",
        "\n",
        "if columns_to_rename:\n",
        "    # Renombrar las columnas\n",
        "    data.rename(columns=columns_to_rename, inplace=True)\n",
        "    print(\"Columnas renombradas correctamente.\")\n",
        "    print(\"\\nNuevos nombres de las columnas:\")\n",
        "    print(data.columns.tolist())\n",
        "else:\n",
        "    print(\"No se encontraron columnas para renombrar. Verifica los nombres.\")"
      ],
      "metadata": {
        "id": "bBh-C_dCKV5F"
      },
      "execution_count": null,
      "outputs": []
    },
    {
      "cell_type": "code",
      "source": [
        "# Verificar y convertir los tipos de datos\n",
        "if 'age' in data.columns:\n",
        "    data['age'] = data['age'].astype('int8')\n",
        "    print(\"Columna 'age' convertida a int8.\")\n",
        "else:\n",
        "    print(\"La columna 'age' no existe en el DataFrame.\")\n",
        "\n",
        "if 'annual_income' in data.columns:\n",
        "    data['annual_income'] = data['annual_income'].astype('int16')\n",
        "    print(\"Columna 'annual_income' convertida a int16.\")\n",
        "else:\n",
        "    print(\"La columna 'annual_income' no existe en el DataFrame.\")\n",
        "\n",
        "if 'spending_score' in data.columns:\n",
        "    data['spending_score'] = data['spending_score'].astype('int8')\n",
        "    print(\"Columna 'spending_score' convertida a int8.\")\n",
        "else:\n",
        "    print(\"La columna 'spending_score' no existe en el DataFrame.\")\n",
        "\n",
        "# Verificar el uso de memoria después de la conversión\n",
        "print(\"\\nUso de memoria después de la optimización:\")\n",
        "print(data.info(memory_usage='deep'))"
      ],
      "metadata": {
        "id": "ldydRmhCEznp"
      },
      "execution_count": null,
      "outputs": []
    },
    {
      "cell_type": "code",
      "source": [
        "# Verificar si la columna 'gender' existe en el DataFrame\n",
        "if 'gender' in data.columns:\n",
        "    # Convertir la columna 'gender' a tipo categórico y asignar códigos numéricos\n",
        "    data['GENERO'] = data['gender'].astype('category').cat.codes\n",
        "\n",
        "    # Mostrar un mensaje de confirmación\n",
        "    print(\"Columna 'GENERO' creada correctamente.\")\n",
        "\n",
        "    # Mostrar el mapeo de categorías a códigos numéricos\n",
        "    category_mapping = dict(enumerate(data['gender'].astype('category').cat.categories))\n",
        "    print(\"\\nMapeo de categorías a códigos numéricos:\")\n",
        "    print(category_mapping)\n",
        "\n",
        "    # Mostrar las primeras filas del DataFrame con la nueva columna\n",
        "    print(\"\\nPrimeras filas del DataFrame con la columna 'GENERO':\")\n",
        "    print(data[['gender', 'GENERO']].head())\n",
        "else:\n",
        "    print(\"La columna 'gender' no existe en el DataFrame. Verifica los nombres de las columnas.\")"
      ],
      "metadata": {
        "id": "bLesN6O-ekyA"
      },
      "execution_count": null,
      "outputs": []
    },
    {
      "cell_type": "code",
      "source": [
        "# Seleccionar las columnas 'age' y 'annual_income' y convertirlas en un array NumPy\n",
        "X = data.iloc[:, [2, 3]].values\n",
        "\n",
        "# Verificar el resultado\n",
        "print(\"Forma del array X:\", X.shape)\n",
        "print(\"\\nPrimeras filas de X:\")\n",
        "print(X[:5])  # Mostrar las primeras 5 filas del array"
      ],
      "metadata": {
        "id": "zPsxg-37S7n0"
      },
      "execution_count": null,
      "outputs": []
    },
    {
      "cell_type": "code",
      "source": [
        "# Seleccionar las columnas numéricas\n",
        "num_columns = data.select_dtypes(include=['number']).columns\n",
        "\n",
        "# Verificar si se encontraron columnas numéricas\n",
        "if len(num_columns) > 0:\n",
        "    print(\"Columnas numéricas en el DataFrame:\")\n",
        "    print(num_columns.tolist())  # Convertir a lista para una salida más clara\n",
        "else:\n",
        "    print(\"No se encontraron columnas numéricas en el DataFrame.\")"
      ],
      "metadata": {
        "id": "G7uKUMJuJjaE"
      },
      "execution_count": null,
      "outputs": []
    },
    {
      "cell_type": "code",
      "source": [
        "num_columns_subset = num_columns[:3]\n",
        "\n",
        "fig, axes = plt.subplots(1, 3, figsize=(15, 5))\n",
        "for i, col in enumerate(num_columns_subset):\n",
        "    axes[i].hist(\n",
        "        x=data[col],  # Datos de la columna\n",
        "        bins='auto',  # Número automático de bins\n",
        "        edgecolor='black'  # Borde negro en las barras\n",
        "    )\n",
        "    # axes[i].set_title(col)  # Título del subplot\n",
        "    axes[i].set_xlabel(col)  # Etiqueta del eje x\n",
        "    axes[i].set_ylabel('Frequency')  # Etiqueta del eje y\n",
        "\n",
        "# Ajustar el espacio entre los subplots para evitar superposiciones\n",
        "plt.tight_layout()\n",
        "\n",
        "# Mostrar la figura\n",
        "plt.show()"
      ],
      "metadata": {
        "id": "9IRvyzO3yxVw"
      },
      "execution_count": null,
      "outputs": []
    },
    {
      "cell_type": "code",
      "source": [
        "# Seleccionar las columnas categóricas (no numéricas)\n",
        "cat_columns = data.select_dtypes(exclude=['number']).columns\n",
        "\n",
        "# Verificar si se encontraron columnas categóricas\n",
        "if len(cat_columns) > 0:\n",
        "    print(\"Columnas categóricas en el DataFrame:\")\n",
        "    print(cat_columns.tolist())  # Convertir a lista para una salida más clara\n",
        "else:\n",
        "    print(\"No se encontraron columnas categóricas en el DataFrame.\")"
      ],
      "metadata": {
        "id": "ZjKQ848BLNpa"
      },
      "execution_count": null,
      "outputs": []
    },
    {
      "cell_type": "code",
      "source": [
        "# Iterar sobre las columnas categóricas\n",
        "for col in cat_columns:\n",
        "    # Obtener los conteos de valores únicos\n",
        "    catcol_counts = data[col].value_counts()\n",
        "\n",
        "    # Crear el gráfico de pastel\n",
        "    plt.figure(figsize=(6, 6))  # Tamaño de la figura\n",
        "    plt.pie(\n",
        "        x=catcol_counts,  # Valores para el gráfico\n",
        "        labels=catcol_counts.index,  # Etiquetas de las categorías\n",
        "        autopct='%1.1f%%',  # Mostrar porcentajes con 1 decimal\n",
        "        startangle=90,  # Rotar el gráfico para que empiece desde arriba\n",
        "        colors=sns.color_palette('pastel'),  # Usar una paleta de colores suaves\n",
        "        wedgeprops={'edgecolor': 'black', 'linewidth': 0.5}  # Borde negro para las porciones\n",
        "    )\n",
        "\n",
        "    # Título del gráfico\n",
        "    plt.title(f'Distribución de {col}', fontsize=16, pad=20)\n",
        "\n",
        "    # Mostrar el gráfico\n",
        "    plt.show()"
      ],
      "metadata": {
        "id": "lU8Juun5Lcz5"
      },
      "execution_count": null,
      "outputs": []
    },
    {
      "cell_type": "code",
      "source": [
        "# Número de columnas en la cuadrícula de gráficos\n",
        "n_cols = 3\n",
        "\n",
        "# Calcular el número de filas necesarias\n",
        "n_rows = math.ceil(len(num_columns) / n_cols)\n",
        "\n",
        "# Verificar si hay columnas numéricas\n",
        "if len(num_columns) > 0:\n",
        "    print(f\"Número de columnas numéricas: {len(num_columns)}\")\n",
        "    print(f\"Organizadas en {n_rows} filas y {n_cols} columnas.\")\n",
        "else:\n",
        "    print(\"No hay columnas numéricas para organizar.\")"
      ],
      "metadata": {
        "id": "a_SFC6nTtbF1"
      },
      "execution_count": null,
      "outputs": []
    },
    {
      "cell_type": "code",
      "source": [
        "# Crear la figura y los ejes\n",
        "fig, ax = plt.subplots(\n",
        "    nrows=1,\n",
        "    ncols=3,\n",
        "    figsize=(16, 9)\n",
        ")\n",
        "\n",
        "# Inicializar contadores para filas y columnas\n",
        "row = 0\n",
        "col = 0\n",
        "\n",
        "# Definir una paleta de colores\n",
        "palette = \"Set2\"  # Puedes usar otras paletas como \"viridis\", \"coolwarm\", \"husl\", etc.\n",
        "\n",
        "# Iterar sobre las columnas numéricas\n",
        "for i, column in enumerate(num_columns):\n",
        "    if col > 2:  # Si se superan 3 columnas, reiniciar\n",
        "        row += 1\n",
        "        col = 0\n",
        "    axes = ax[col]  # Seleccionar el subplot actual\n",
        "    sns.boxplot(\n",
        "        x=data['gender'],  # Variable categórica en el eje x\n",
        "        y=data[column],    # Variable numérica en el eje y\n",
        "        ax=axes,           # Especificar el subplot actual\n",
        "        palette=palette    # Asignar una paleta de colores\n",
        "    )\n",
        "    axes.set_title(column)  # Título del subplot\n",
        "    col += 1  # Moverse a la siguiente columna\n",
        "\n",
        "# Ajustar el layout para evitar superposiciones\n",
        "plt.tight_layout()\n",
        "\n",
        "# Título general de la figura\n",
        "fig.suptitle(\"Individual Features by Class\", fontsize=16, y=1.02)\n",
        "\n",
        "# Mostrar la figura\n",
        "plt.show()"
      ],
      "metadata": {
        "id": "UCDc6rxFuG2B"
      },
      "execution_count": null,
      "outputs": []
    },
    {
      "cell_type": "code",
      "source": [
        "# Iterar sobre las columnas numéricas\n",
        "for i, var in enumerate(num_columns):\n",
        "    # Crear un joyplot para cada columna numérica, agrupado por 'gender'\n",
        "    joypy.joyplot(\n",
        "        data = data,\n",
        "        column=[var],  # Columna numérica\n",
        "        by=\"gender\",   # Variable categórica para agrupar\n",
        "        ylim='own',    # Cada subplot tiene su propio límite en el eje y\n",
        "        figsize=(16, 9),  # Tamaño de la figura\n",
        "        color=['tomato', 'purple'],  # Colores para las categorías de 'gender'\n",
        "        title=f\"{var} by 'Gender'\",  # Título del gráfico\n",
        "        linecolor='black',  # Color de las líneas de contorno\n",
        "        overlap=1.5,  # Solapamiento entre las curvas\n",
        "    )\n",
        "    plt.show()  # Mostrar cada gráfico por separado"
      ],
      "metadata": {
        "id": "3Zm4NlQjP0ZT"
      },
      "execution_count": null,
      "outputs": []
    },
    {
      "cell_type": "code",
      "source": [
        "# Verificar si la columna 'gender' existe en el DataFrame\n",
        "if 'gender' in data.columns:\n",
        "    # Crear el codificador\n",
        "    enc = OrdinalEncoder()\n",
        "\n",
        "    # Codificar la columna 'gender'\n",
        "    data['gender'] = enc.fit_transform(data[['gender']])\n",
        "\n",
        "    # Mostrar un mensaje de confirmación\n",
        "    print(\"Columna 'gender' codificada correctamente.\")\n",
        "\n",
        "    # Mostrar el mapeo de categorías a códigos numéricos\n",
        "    category_mapping = {i: category for i, category in enumerate(enc.categories_[0])}\n",
        "    print(\"\\nMapeo de categorías a códigos numéricos:\")\n",
        "    print(category_mapping)\n",
        "\n",
        "    # Mostrar la distribución de los códigos numéricos\n",
        "    print(\"\\nDistribución de la columna 'gender' codificada:\")\n",
        "    print(data['gender'].value_counts())\n",
        "else:\n",
        "    print(\"La columna 'gender' no existe en el DataFrame. Verifica los nombres de las columnas.\")"
      ],
      "metadata": {
        "id": "VWZ41mHxMN6T"
      },
      "execution_count": null,
      "outputs": []
    },
    {
      "cell_type": "code",
      "source": [
        "# Parámetros iniciales para el modelo K-Means\n",
        "kmeans_kwargs = {\n",
        "    \"init\": \"random\",  # Inicialización aleatoria de los centroides\n",
        "    \"n_init\": 10,      # Número de inicializaciones para elegir la mejor\n",
        "    \"max_iter\": 300,   # Número máximo de iteraciones por inicialización\n",
        "    \"random_state\": 42, # Semilla para reproducibilidad\n",
        "}\n",
        "\n",
        "# Mensaje informativo\n",
        "print(\"Parámetros iniciales para K-Means:\")\n",
        "for key, value in kmeans_kwargs.items():\n",
        "    print(f\"{key}: {value}\")"
      ],
      "metadata": {
        "id": "OANgjIe1ManD"
      },
      "execution_count": null,
      "outputs": []
    },
    {
      "cell_type": "code",
      "source": [
        "# Lista para almacenar la suma de los errores cuadráticos (SSE)\n",
        "sse = []\n",
        "\n",
        "# Rango de valores de k (número de clusters)\n",
        "k_range = range(1, 11)\n",
        "\n",
        "# Calcular SSE para cada valor de k\n",
        "for k in k_range:\n",
        "    # Crear el modelo K-Means\n",
        "    kmeans = KMeans(n_clusters=k, **kmeans_kwargs)\n",
        "\n",
        "    # Ajustar el modelo a los datos\n",
        "    kmeans.fit(X)\n",
        "\n",
        "    # Almacenar el valor de SSE (inercia)\n",
        "    sse.append(kmeans.inertia_)\n",
        "    print(f\"k = {k}: SSE = {kmeans.inertia_:.2f}\")"
      ],
      "metadata": {
        "id": "L-4O8mjDMfiK"
      },
      "execution_count": null,
      "outputs": []
    },
    {
      "cell_type": "code",
      "source": [
        "plt.figure(figsize=(16, 9))  # Tamaño de la figura\n",
        "\n",
        "# Graficar la curva de SSE\n",
        "plt.plot(\n",
        "    range(1, 11),  # Eje x: Número de clusters (k)\n",
        "    sse,            # Eje y: Suma de errores cuadráticos (SSE)\n",
        "    marker='o',     # Marcador para cada punto\n",
        "    linestyle='--', # Estilo de línea\n",
        "    color='b',      # Color de la línea\n",
        "    linewidth=2,    # Grosor de la línea\n",
        "    markersize=8    # Tamaño de los marcadores\n",
        ")\n",
        "\n",
        "# Resaltar el punto óptimo (k=5)\n",
        "plt.scatter(\n",
        "    5,              # Valor de k\n",
        "    sse[4],         # Valor de SSE para k=5\n",
        "    s=200,          # Tamaño del marcador\n",
        "    c='red',        # Color del marcador\n",
        "    marker='*',     # Forma del marcador (estrella)\n",
        "    edgecolor='black',  # Borde del marcador\n",
        "    linewidth=1     # Grosor del borde\n",
        ")\n",
        "\n",
        "# Títulos y etiquetas\n",
        "plt.title('Método del codo para elegir k', fontsize=18, pad=20)\n",
        "plt.xlabel('Número de clusters (k)', fontsize=14)\n",
        "plt.ylabel('Suma de errores cuadráticos (SSE)', fontsize=14)\n",
        "\n",
        "# Añadir una cuadrícula para mejor legibilidad\n",
        "plt.grid(True, linestyle='--', alpha=0.6)\n",
        "\n",
        "# Ajustar el layout\n",
        "plt.tight_layout()\n",
        "\n",
        "# Mostrar el gráfico\n",
        "plt.show()"
      ],
      "metadata": {
        "id": "X_MA6G1bMolX"
      },
      "execution_count": null,
      "outputs": []
    },
    {
      "cell_type": "code",
      "source": [
        "# Configuración del modelo K-Means\n",
        "kmeans = KMeans(\n",
        "    init=\"k-means++\",  # Inicialización inteligente de centroides\n",
        "    n_clusters=5,      # Número de clusters\n",
        "    random_state=111   # Semilla para reproducibilidad\n",
        ")\n",
        "\n",
        "# Ajustar el modelo a los datos\n",
        "kmeans.fit(X)\n",
        "\n",
        "# Predecir los clusters para cada punto de datos\n",
        "pred = kmeans.predict(X)\n",
        "\n",
        "# Asignar los clusters al DataFrame original\n",
        "data['KMeans_Cluster'] = pred\n",
        "\n",
        "# Contar el número de puntos de datos en cada cluster\n",
        "cluster_counts = data['KMeans_Cluster'].value_counts().sort_index()\n",
        "print('Number of data points in each cluster: \\n', cluster_counts)"
      ],
      "metadata": {
        "id": "tzqmfOS9MzPO"
      },
      "execution_count": null,
      "outputs": []
    },
    {
      "cell_type": "code",
      "source": [
        "# Imprimir las etiquetas de los clusters\n",
        "print(pred)"
      ],
      "metadata": {
        "id": "n4JibfkuN7Ef"
      },
      "execution_count": null,
      "outputs": []
    },
    {
      "cell_type": "code",
      "source": [
        "# Aplicar PCA a los datos\n",
        "pca = PCA()  # Crear un objeto PCA\n",
        "pca_data = pca.fit_transform(data)  # Ajustar y transformar los datos\n",
        "\n",
        "# Crear un DataFrame con los componentes principales\n",
        "pca_df = pd.DataFrame(data=pca_data, columns=[f'PC{i+1}' for i in range(pca_data.shape[1])])\n",
        "data['PC1'] = pca_data[:, 0]  # Primer componente principal\n",
        "data['PC2'] = pca_data[:, 1]  # Segundo componente principal\n",
        "\n",
        "# Mostrar las primeras filas del DataFrame de componentes principales\n",
        "print(\"Componentes principales (primeras filas):\")\n",
        "print(pca_df.head())\n",
        "\n",
        "# Graficar la varianza explicada por cada componente principal\n",
        "plt.figure(figsize=(10, 6))\n",
        "plt.bar(\n",
        "    range(1, pca.n_components_ + 1),  # Rango de componentes\n",
        "    pca.explained_variance_ratio_,  # Varianza explicada por cada componente\n",
        "    alpha=0.7,  # Transparencia de las barras\n",
        "    align='center',  # Alineación de las barras\n",
        "    label='Varianza individual explicada'  # Etiqueta para la leyenda\n",
        ")\n",
        "\n",
        "# Graficar la varianza acumulada explicada\n",
        "plt.step(\n",
        "    range(1, pca.n_components_ + 1),  # Rango de componentes\n",
        "    pca.explained_variance_ratio_.cumsum(),  # Varianza acumulada explicada\n",
        "    where='mid',  # Punto de referencia para el paso\n",
        "    label='Varianza acumulada explicada'  # Etiqueta para la leyenda\n",
        ")\n",
        "\n",
        "# Añadir una línea horizontal para el umbral de varianza (opcional)\n",
        "plt.axhline(y=0.95, color='r', linestyle='--', label='95% de varianza explicada')\n",
        "\n",
        "# Títulos y etiquetas\n",
        "plt.title('Varianza explicada por componentes principales', fontsize=16, pad=20)\n",
        "plt.xlabel('Número de componentes principales', fontsize=12)\n",
        "plt.ylabel('Varianza explicada', fontsize=12)\n",
        "\n",
        "# Añadir una cuadrícula para mejor legibilidad\n",
        "plt.grid(True, linestyle='--', alpha=0.6)\n",
        "\n",
        "# Mostrar la leyenda\n",
        "plt.legend(loc='best', fontsize=10)\n",
        "\n",
        "# Ajustar el layout\n",
        "plt.tight_layout()\n",
        "\n",
        "# Mostrar la gráfica\n",
        "plt.show()"
      ],
      "metadata": {
        "id": "PZHQAt9oYsX0"
      },
      "execution_count": null,
      "outputs": []
    },
    {
      "cell_type": "code",
      "source": [
        "# Obtener la varianza explicada por cada componente principal\n",
        "explained_variance_ratio = pca.explained_variance_ratio_\n",
        "\n",
        "# Mostrar la varianza explicada\n",
        "print(\"Varianza explicada por cada componente principal:\")\n",
        "print(explained_variance_ratio)\n",
        "\n",
        "# Mostrar la varianza acumulada explicada\n",
        "print(\"\\nVarianza acumulada explicada:\")\n",
        "print(explained_variance_ratio.cumsum())"
      ],
      "metadata": {
        "id": "2Et-BuufY_8k"
      },
      "execution_count": null,
      "outputs": []
    },
    {
      "source": [
        "# Grafica de la varianza acumulada explicada\n",
        "plt.figure(figsize=(10, 6))  # Tamaño de la figura\n",
        "plt.plot(\n",
        "    range(1, pca.n_components_ + 1),  # Rango de componentes\n",
        "    pca.explained_variance_ratio_.cumsum(),  # Varianza acumulada explicada\n",
        "    marker='o',  # Marcador para cada punto\n",
        "    linestyle='--',  # Estilo de línea\n",
        "    color='b',  # Color de la línea\n",
        "    linewidth=2,  # Grosor de la línea\n",
        "    markersize=8  # Tamaño de los marcadores\n",
        ")\n",
        "\n",
        "# Añadir una línea horizontal para el umbral de varianza (opcional)\n",
        "plt.axhline(y=0.95, color='r', linestyle='-', linewidth=1.5, label='95% Explained Variance')  # Línea de umbral\n",
        "\n",
        "# Títulos y etiquetas\n",
        "plt.title('Explained Variance by Components', fontsize=16, pad=20)\n",
        "plt.xlabel('Number of Components', fontsize=12)\n",
        "plt.ylabel('Cumulative Explained Variance', fontsize=12)\n",
        "\n",
        "# Añadir una cuadrícula para mejor legibilidad\n",
        "plt.grid(True, linestyle='--', alpha=0.6)\n",
        "\n",
        "# Mostrar la leyenda\n",
        "plt.legend(loc='lower right', fontsize=12)\n",
        "\n",
        "# Ajustar el layout\n",
        "plt.tight_layout()\n",
        "\n",
        "# Mostrar la gráfica\n",
        "plt.show()"
      ],
      "cell_type": "code",
      "metadata": {
        "id": "rkR9kZ0ysRWs"
      },
      "execution_count": null,
      "outputs": []
    },
    {
      "cell_type": "code",
      "source": [
        "# Aplicar PCA con 2 componentes\n",
        "pca = PCA(n_components=2)\n",
        "pca_data = pca.fit_transform(X)\n",
        "x = pca_data[:, 0]  # Primer componente principal\n",
        "y = pca_data[:, 1]  # Segundo componente principal\n",
        "\n",
        "# Transformar los centroides de K-Means al espacio de PCA\n",
        "centroids_pca = pca.transform(kmeans.cluster_centers_)\n",
        "centroids_x = centroids_pca[:, 0]  # Primer componente principal de los centroides\n",
        "centroids_y = centroids_pca[:, 1]  # Segundo componente principal de los centroides\n",
        "\n",
        "# Graficar los clusters\n",
        "plt.figure(figsize=(10, 6))  # Tamaño de la figura\n",
        "scatter = plt.scatter(\n",
        "    x=x,  # Eje x: primer componente principal\n",
        "    y=y,  # Eje y: segundo componente principal\n",
        "    c=kmeans.labels_,  # Colores según las etiquetas de los clusters\n",
        "    s=50,  # Tamaño de los puntos\n",
        "    cmap='viridis',  # Mapa de colores\n",
        "    alpha=0.8,  # Transparencia de los puntos\n",
        "    edgecolor='k',  # Borde negro para los puntos\n",
        "    linewidth=0.5  # Grosor del borde\n",
        ")\n",
        "\n",
        "# Graficar los centroides\n",
        "plt.scatter(\n",
        "    x=centroids_x,  # Eje x: primer componente principal de los centroides\n",
        "    y=centroids_y,  # Eje y: segundo componente principal de los centroides\n",
        "    s=200,  # Tamaño de los centroides\n",
        "    c='red',  # Color de los centroides\n",
        "    marker='*',  # Forma de los centroides (estrella)\n",
        "    edgecolor='black',  # Borde negro para los centroides\n",
        "    linewidth=1,  # Grosor del borde\n",
        "    label='Centroides'  # Etiqueta para la leyenda\n",
        ")\n",
        "\n",
        "# Títulos y etiquetas\n",
        "plt.title('PCA: Clusters Visualization with Centroids', fontsize=16, pad=20)\n",
        "plt.xlabel('First Principal Component', fontsize=12)\n",
        "plt.ylabel('Second Principal Component', fontsize=12)\n",
        "\n",
        "# Añadir una leyenda para los clusters\n",
        "legend1 = plt.legend(*scatter.legend_elements(), title=\"Clusters\", fontsize=10, loc='upper right')\n",
        "plt.gca().add_artist(legend1)\n",
        "\n",
        "# Añadir una leyenda para los centroides\n",
        "plt.legend(loc='lower right', fontsize=10)\n",
        "\n",
        "# Añadir una cuadrícula para mejor legibilidad\n",
        "plt.grid(True, linestyle='--', alpha=0.6)\n",
        "\n",
        "# Ajustar el layout\n",
        "plt.tight_layout()\n",
        "\n",
        "# Mostrar la gráfica\n",
        "plt.show()"
      ],
      "metadata": {
        "id": "L-PCARRFJFCu"
      },
      "execution_count": null,
      "outputs": []
    },
    {
      "cell_type": "code",
      "source": [
        "# Grafica de los puntos de datos coloreados por cluster\n",
        "plt.figure(figsize=(10, 6))  # Tamaño de la figura\n",
        "scatter = plt.scatter(\n",
        "    x=X[:, 0],  # Primera característica (por ejemplo, Annual Income)\n",
        "    y=X[:, 1],  # Segunda característica (por ejemplo, Spending Score)\n",
        "    c=kmeans.labels_,  # Colores según las etiquetas de los clusters\n",
        "    s=50,  # Tamaño de los puntos\n",
        "    cmap='viridis',  # Mapa de colores\n",
        "    alpha=0.8,  # Transparencia de los puntos\n",
        "    edgecolor='k',  # Borde negro para los puntos\n",
        "    linewidth=0.5  # Grosor del borde\n",
        ")\n",
        "\n",
        "# Graficar los centroides de los clusters\n",
        "centers = kmeans.cluster_centers_\n",
        "plt.scatter(\n",
        "    centers[:, 0],  # Coordenada x de los centroides\n",
        "    centers[:, 1],  # Coordenada y de los centroides\n",
        "    c='red',  # Color de los centroides\n",
        "    s=200,  # Tamaño de los centroides\n",
        "    alpha=0.75,  # Transparencia de los centroides\n",
        "    marker='*',  # Forma de los centroides (estrella)\n",
        "    edgecolor='k',  # Borde negro para los centroides\n",
        "    linewidth=1,  # Grosor del borde\n",
        "    label='Centroides'  # Etiqueta para la leyenda\n",
        ")\n",
        "\n",
        "# Títulos y etiquetas\n",
        "plt.title('K-Means Clustering', fontsize=16, pad=20)\n",
        "plt.xlabel('Annual Income', fontsize=12)\n",
        "plt.ylabel('Spending Score', fontsize=12)\n",
        "\n",
        "# Añadir una leyenda para los clusters\n",
        "legend = plt.legend(*scatter.legend_elements(), title=\"Clusters\", fontsize=10, loc='upper right')\n",
        "plt.gca().add_artist(legend)\n",
        "\n",
        "# Añadir una leyenda para los centroides\n",
        "plt.legend(loc='lower right', fontsize=10)\n",
        "\n",
        "# Añadir una cuadrícula para mejor legibilidad\n",
        "plt.grid(True, linestyle='--', alpha=0.6)\n",
        "\n",
        "# Ajustar el layout\n",
        "plt.tight_layout()\n",
        "\n",
        "# Mostrar la gráfica\n",
        "plt.show()"
      ],
      "metadata": {
        "id": "_RTyKL5yU8dh"
      },
      "execution_count": null,
      "outputs": []
    },
    {
      "cell_type": "code",
      "source": [
        "# Grafica de los clusters de K-Means en el espacio de PCA\n",
        "plt.figure(figsize=(10, 6))\n",
        "sns.scatterplot(\n",
        "    x='PC1',  # Primer componente principal\n",
        "    y='PC2',  # Segundo componente principal\n",
        "    hue='KMeans_Cluster',  # Colores según los clusters de K-Means\n",
        "    data=data,  # DataFrame\n",
        "    palette='viridis',  # Mapa de colores\n",
        "    s=100,  # Tamaño de los puntos\n",
        "    alpha=0.8  # Transparencia\n",
        ")\n",
        "plt.title('Clusters de K-Means en el espacio de PCA', fontsize=16)\n",
        "plt.xlabel('Primer Componente Principal (PC1)', fontsize=12)\n",
        "plt.ylabel('Segundo Componente Principal (PC2)', fontsize=12)\n",
        "plt.legend(title='Cluster', fontsize=10)\n",
        "plt.grid(True, linestyle='--', alpha=0.6)\n",
        "plt.show()"
      ],
      "metadata": {
        "id": "eMOccfFQMCAH"
      },
      "execution_count": null,
      "outputs": []
    },
    {
      "cell_type": "code",
      "source": [
        "# Agrupar por cluster de K-Means y calcular estadísticas de PC1 y PC2\n",
        "cluster_stats = data.groupby('KMeans_Cluster')[['PC1', 'PC2']].agg(['mean', 'std'])\n",
        "print(cluster_stats)"
      ],
      "metadata": {
        "id": "JqkzM3efO3RJ"
      },
      "execution_count": null,
      "outputs": []
    },
    {
      "cell_type": "code",
      "source": [
        "# Aplicar PCA con 2 componentes\n",
        "pca = PCA(n_components=2)\n",
        "pca_data = pca.fit_transform(X)\n",
        "\n",
        "# Aplicar K-Means a los componentes principales\n",
        "kmeans = KMeans(n_clusters=3, random_state=42)\n",
        "kmeans.fit(pca_data)\n",
        "labels = kmeans.labels_\n",
        "\n",
        "# Graficar los clusters en el espacio de PCA\n",
        "plt.figure(figsize=(10, 6))\n",
        "scatter = plt.scatter(\n",
        "    x=pca_data[:, 0],  # Primer componente principal\n",
        "    y=pca_data[:, 1],  # Segundo componente principal\n",
        "    c=labels,  # Colores según las etiquetas de los clusters\n",
        "    s=50,  # Tamaño de los puntos\n",
        "    cmap='viridis',  # Mapa de colores\n",
        "    alpha=0.8,  # Transparencia de los puntos\n",
        "    edgecolor='k',  # Borde negro para los puntos\n",
        "    linewidth=0.5  # Grosor del borde\n",
        ")\n",
        "\n",
        "# Graficar los centroides en el espacio de PCA\n",
        "centroids_pca = kmeans.cluster_centers_\n",
        "plt.scatter(\n",
        "    x=centroids_pca[:, 0],  # Primer componente principal de los centroides\n",
        "    y=centroids_pca[:, 1],  # Segundo componente principal de los centroides\n",
        "    s=200,  # Tamaño de los centroides\n",
        "    c='red',  # Color de los centroides\n",
        "    marker='*',  # Forma de los centroides (estrella)\n",
        "    edgecolor='black',  # Borde negro para los centroides\n",
        "    linewidth=1,  # Grosor del borde\n",
        "    label='Centroides'  # Etiqueta para la leyenda\n",
        ")\n",
        "\n",
        "# Títulos y etiquetas\n",
        "plt.title('PCA + K-Means: Clusters Visualization', fontsize=16, pad=20)\n",
        "plt.xlabel('First Principal Component', fontsize=12)\n",
        "plt.ylabel('Second Principal Component', fontsize=12)\n",
        "\n",
        "# Añadir una leyenda para los clusters\n",
        "legend1 = plt.legend(*scatter.legend_elements(), title=\"Clusters\", fontsize=10, loc='upper right')\n",
        "plt.gca().add_artist(legend1)\n",
        "\n",
        "# Añadir una leyenda para los centroides\n",
        "plt.legend(loc='lower right', fontsize=10)\n",
        "\n",
        "# Añadir una cuadrícula para mejor legibilidad\n",
        "plt.grid(True, linestyle='--', alpha=0.6)\n",
        "\n",
        "# Ajustar el layout\n",
        "plt.tight_layout()\n",
        "\n",
        "# Mostrar la gráfica\n",
        "plt.show()"
      ],
      "metadata": {
        "id": "MfJu5iJuKsQ8"
      },
      "execution_count": null,
      "outputs": []
    }
  ]
}